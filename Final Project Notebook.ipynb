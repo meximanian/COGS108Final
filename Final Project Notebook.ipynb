{
 "cells": [
  {
   "cell_type": "markdown",
   "metadata": {},
   "source": [
    "# COGS 108 - Final Project"
   ]
  },
  {
   "cell_type": "markdown",
   "metadata": {},
   "source": [
    "# Overview\n",
    "In this final project of Data science, we are trying to generate a recommendation system of movies for IMDB users with the respect of their historical ratings. At first, after obtaining the datasets about both film's final ratings and individual users' ratings, we would try to combine them together with movieID as the key for further comparisons. Next, by visualizing the collected data, we would study the correlation between individual as well as final ratings of films and film genres. At last, we would use the model we generate to recommend films for each individual user. "
   ]
  },
  {
   "cell_type": "markdown",
   "metadata": {},
   "source": [
    "# Names and PID\n",
    "- Anthony Ostia\n",
    "- Ramin Atrian\n",
    "- Chuyang Xiao\n",
    "- Yifeng Zhang\n",
    "- Ian Nelson"
   ]
  },
  {
   "cell_type": "markdown",
   "metadata": {},
   "source": [
    "# Group Members IDs\n",
    "- A13903305\n",
    "- A15691021\n",
    "- A13722916\n",
    "- A13820262\n",
    "- A15738482"
   ]
  },
  {
   "cell_type": "markdown",
   "metadata": {},
   "source": [
    "# Research Question\n",
    "How to recommend films in their favorite genres to each individual IMDB user according to their historical ratings?"
   ]
  },
  {
   "cell_type": "markdown",
   "metadata": {},
   "source": [
    "# Background \n",
    "Since the beginning of the 20th century, film has been an important recreation to human beings possessing both artistic and commercial significance. Moreover, in the Information Age, rather than being overwhelmed by the gigantic informative flow, film won unprecedented attention from the population with the aid of widespread accessibility to the Internet. Just like Hsu (2014) argued in his essay, in the era of Web 2.0, film critics are no longer privileges limited to professionals yet typical rights to common audiences as well, due to the introduction of film rating websites such as IMDB or Rotten Tomatoes: each audience could comment or grade films online and then share their evaluations and opinions to the public. Consequently, the data collected thereby is not only abundant in quantity, but also diverse in nature, including millions of users’ personal information as well as preference of films. Hence, considering it a perfect dataset to study users’ attributes to films, we would like to focus on the ratings on movie websites in this project.\n",
    "\n",
    "As increasing audiences begin to consider online ratings as critical criteria to decide whether or  not to see a film, a number of data scientists struggle to explore the rating data, which has provided us with the direction of further research. In the research accomplished by Hsu (2014) focusing on predicting the movies user rating based on the IMDB attributes, by analyzing the ratings and critics of 31506 movies, they generated a mathematical model mimicking the manners of the preference of general IMDB users, and hence predicted the final rating of a newly coming movie via entering related parameters to it. Regardingly, we found that instead of being purely independent, the IMDB ratings of new films could be roughly predicted by past data. Furthermore, in Breuss’s research (2012), the personal information on users’ social media, including gender, hobby, or regular activities, was taken into account and therefore, predicted the IMDB movie ratings they might give, which inspires that individuals’ statistics could also be of concern. \n",
    "\n",
    "All in all, in this data science project, we will combine these two studies and step forward: we will study what kind of movies will a user like based on the historical ratings and review texts of that user on movies he/she has seen previously. From our perspective, this study is not only interesting but also quite applicable, could possibly promote the recommendation system in movie rating websites.\n",
    "\n",
    "Reference:\n",
    "1. Hsu, P. Y., Shen, Y. H., & Xie, X. A. (2014, October). Predicting movies user ratings with imdb attributes. In International Conference on Rough Sets and Knowledge Technology (pp. 444-453). Springer, Cham.\n",
    "2. Oghina, A., Breuss, M., Tsagkias, M., & De Rijke, M. (2012, April). Predicting imdb movie ratings using social media. In European Conference on Information Retrieval (pp. 503-507). Springer, Berlin, Heidelberg."
   ]
  },
  {
   "cell_type": "markdown",
   "metadata": {},
   "source": [
    "# Hypothesis\n",
    "Within this data science group project, we would like to develope a recommendation systems for the movie rating websites which involves to predict the users' preference in movie according to their rating history and then provide them with certain genre of movies that they favour. Hence, we generated a couple of hypothesises with the respect of this topic:\n",
    "1. With the respect of the users, one would like to rate higher on the genres (higher than the average) he or she loves, which indicates his or her love. On the opposite, to the genres he or she dislikes, his or hers ratings would be much lower(lower than or equal to the average).\n",
    "2. Moreover, if a user loves a certain genre of film, he or she tends to watch more this genre of films.\n",
    "3. If a user loves a certain genre of film, this genre of film must exist among the films he or she rates the highest"
   ]
  },
  {
   "cell_type": "markdown",
   "metadata": {},
   "source": [
    "# Datasets\n",
    "\n",
    "Data on ratings comes from\n",
    "https://www.kaggle.com/rounakbanik/the-movies-dataset/version/7#\n",
    "\n",
    "This dataset contains over 200000000 ratings from 138493 users, containing the movieID they rates, the scores they give to each film, and the timestamps of the ratings.\n",
    "\n",
    "Data about movies comes from\n",
    "https://www.kaggle.com/grouplens/movielens-20m-dataset#tag.csv\n",
    "\n",
    "This data contains the information of 27277 movies, including their movieID, title and genres."
   ]
  },
  {
   "cell_type": "markdown",
   "metadata": {},
   "source": [
    "# Setup\n",
    "First and foremost, we would import the useful modules and packages."
   ]
  },
  {
   "cell_type": "code",
   "execution_count": 1,
   "metadata": {},
   "outputs": [],
   "source": [
    "import pandas as pd\n",
    "import numpy as np\n",
    "import seaborn as sns\n",
    "import matplotlib.pyplot as plt"
   ]
  },
  {
   "cell_type": "markdown",
   "metadata": {},
   "source": [
    "Then, we would load in our datasets in csv with pandas method."
   ]
  },
  {
   "cell_type": "code",
   "execution_count": 2,
   "metadata": {},
   "outputs": [],
   "source": [
    "df_rating = pd.read_csv('rating.csv') "
   ]
  },
  {
   "cell_type": "code",
   "execution_count": 3,
   "metadata": {},
   "outputs": [
    {
     "data": {
      "text/html": [
       "<div>\n",
       "<style scoped>\n",
       "    .dataframe tbody tr th:only-of-type {\n",
       "        vertical-align: middle;\n",
       "    }\n",
       "\n",
       "    .dataframe tbody tr th {\n",
       "        vertical-align: top;\n",
       "    }\n",
       "\n",
       "    .dataframe thead th {\n",
       "        text-align: right;\n",
       "    }\n",
       "</style>\n",
       "<table border=\"1\" class=\"dataframe\">\n",
       "  <thead>\n",
       "    <tr style=\"text-align: right;\">\n",
       "      <th></th>\n",
       "      <th>userId</th>\n",
       "      <th>movieId</th>\n",
       "      <th>rating</th>\n",
       "      <th>timestamp</th>\n",
       "    </tr>\n",
       "  </thead>\n",
       "  <tbody>\n",
       "    <tr>\n",
       "      <th>0</th>\n",
       "      <td>1</td>\n",
       "      <td>2</td>\n",
       "      <td>3.5</td>\n",
       "      <td>2005-04-02 23:53:47</td>\n",
       "    </tr>\n",
       "    <tr>\n",
       "      <th>1</th>\n",
       "      <td>1</td>\n",
       "      <td>29</td>\n",
       "      <td>3.5</td>\n",
       "      <td>2005-04-02 23:31:16</td>\n",
       "    </tr>\n",
       "    <tr>\n",
       "      <th>2</th>\n",
       "      <td>1</td>\n",
       "      <td>32</td>\n",
       "      <td>3.5</td>\n",
       "      <td>2005-04-02 23:33:39</td>\n",
       "    </tr>\n",
       "    <tr>\n",
       "      <th>3</th>\n",
       "      <td>1</td>\n",
       "      <td>47</td>\n",
       "      <td>3.5</td>\n",
       "      <td>2005-04-02 23:32:07</td>\n",
       "    </tr>\n",
       "    <tr>\n",
       "      <th>4</th>\n",
       "      <td>1</td>\n",
       "      <td>50</td>\n",
       "      <td>3.5</td>\n",
       "      <td>2005-04-02 23:29:40</td>\n",
       "    </tr>\n",
       "  </tbody>\n",
       "</table>\n",
       "</div>"
      ],
      "text/plain": [
       "   userId  movieId  rating            timestamp\n",
       "0       1        2     3.5  2005-04-02 23:53:47\n",
       "1       1       29     3.5  2005-04-02 23:31:16\n",
       "2       1       32     3.5  2005-04-02 23:33:39\n",
       "3       1       47     3.5  2005-04-02 23:32:07\n",
       "4       1       50     3.5  2005-04-02 23:29:40"
      ]
     },
     "execution_count": 3,
     "metadata": {},
     "output_type": "execute_result"
    }
   ],
   "source": [
    "df_rating.head()"
   ]
  },
  {
   "cell_type": "code",
   "execution_count": 4,
   "metadata": {},
   "outputs": [],
   "source": [
    "df_movie = pd.read_csv('movie.csv',dtype = {'title':str, 'genres':str, 'movieId':int})"
   ]
  },
  {
   "cell_type": "code",
   "execution_count": 5,
   "metadata": {},
   "outputs": [
    {
     "data": {
      "text/html": [
       "<div>\n",
       "<style scoped>\n",
       "    .dataframe tbody tr th:only-of-type {\n",
       "        vertical-align: middle;\n",
       "    }\n",
       "\n",
       "    .dataframe tbody tr th {\n",
       "        vertical-align: top;\n",
       "    }\n",
       "\n",
       "    .dataframe thead th {\n",
       "        text-align: right;\n",
       "    }\n",
       "</style>\n",
       "<table border=\"1\" class=\"dataframe\">\n",
       "  <thead>\n",
       "    <tr style=\"text-align: right;\">\n",
       "      <th></th>\n",
       "      <th>movieId</th>\n",
       "      <th>title</th>\n",
       "      <th>genres</th>\n",
       "    </tr>\n",
       "  </thead>\n",
       "  <tbody>\n",
       "    <tr>\n",
       "      <th>0</th>\n",
       "      <td>1</td>\n",
       "      <td>Toy Story (1995)</td>\n",
       "      <td>Adventure|Animation|Children|Comedy|Fantasy</td>\n",
       "    </tr>\n",
       "    <tr>\n",
       "      <th>1</th>\n",
       "      <td>2</td>\n",
       "      <td>Jumanji (1995)</td>\n",
       "      <td>Adventure|Children|Fantasy</td>\n",
       "    </tr>\n",
       "    <tr>\n",
       "      <th>2</th>\n",
       "      <td>3</td>\n",
       "      <td>Grumpier Old Men (1995)</td>\n",
       "      <td>Comedy|Romance</td>\n",
       "    </tr>\n",
       "    <tr>\n",
       "      <th>3</th>\n",
       "      <td>4</td>\n",
       "      <td>Waiting to Exhale (1995)</td>\n",
       "      <td>Comedy|Drama|Romance</td>\n",
       "    </tr>\n",
       "    <tr>\n",
       "      <th>4</th>\n",
       "      <td>5</td>\n",
       "      <td>Father of the Bride Part II (1995)</td>\n",
       "      <td>Comedy</td>\n",
       "    </tr>\n",
       "  </tbody>\n",
       "</table>\n",
       "</div>"
      ],
      "text/plain": [
       "   movieId                               title  \\\n",
       "0        1                    Toy Story (1995)   \n",
       "1        2                      Jumanji (1995)   \n",
       "2        3             Grumpier Old Men (1995)   \n",
       "3        4            Waiting to Exhale (1995)   \n",
       "4        5  Father of the Bride Part II (1995)   \n",
       "\n",
       "                                        genres  \n",
       "0  Adventure|Animation|Children|Comedy|Fantasy  \n",
       "1                   Adventure|Children|Fantasy  \n",
       "2                               Comedy|Romance  \n",
       "3                         Comedy|Drama|Romance  \n",
       "4                                       Comedy  "
      ]
     },
     "execution_count": 5,
     "metadata": {},
     "output_type": "execute_result"
    }
   ],
   "source": [
    "df_movie.head()"
   ]
  },
  {
   "cell_type": "markdown",
   "metadata": {},
   "source": [
    "# Data Cleaning\n",
    "First and foremost, before actually executing the data, we shall check the cleanness of the dataset we get. To begin with, we would clear and standardize the rating dataset."
   ]
  },
  {
   "cell_type": "markdown",
   "metadata": {},
   "source": [
    "Next, for the rating dataset, we would only keep three columns and remove the rest:\n",
    "1. the userID (an integer)\n",
    "2. the movieID of the movies they rate (an integer)\n",
    "3. the scores users give to movies (a float)"
   ]
  },
  {
   "cell_type": "code",
   "execution_count": 6,
   "metadata": {},
   "outputs": [],
   "source": [
    "df_rating = df_rating.drop(columns = ['timestamp'])"
   ]
  },
  {
   "cell_type": "markdown",
   "metadata": {},
   "source": [
    "For the movie dataset, we shall firstly standardize it into three columns\n",
    "1. the movieID (an integer)\n",
    "2. the movie title (a string)\n",
    "3. the movie genre (list)"
   ]
  },
  {
   "cell_type": "code",
   "execution_count": 7,
   "metadata": {},
   "outputs": [
    {
     "data": {
      "text/html": [
       "<div>\n",
       "<style scoped>\n",
       "    .dataframe tbody tr th:only-of-type {\n",
       "        vertical-align: middle;\n",
       "    }\n",
       "\n",
       "    .dataframe tbody tr th {\n",
       "        vertical-align: top;\n",
       "    }\n",
       "\n",
       "    .dataframe thead th {\n",
       "        text-align: right;\n",
       "    }\n",
       "</style>\n",
       "<table border=\"1\" class=\"dataframe\">\n",
       "  <thead>\n",
       "    <tr style=\"text-align: right;\">\n",
       "      <th></th>\n",
       "      <th>movieId</th>\n",
       "      <th>title</th>\n",
       "      <th>genres</th>\n",
       "    </tr>\n",
       "  </thead>\n",
       "  <tbody>\n",
       "    <tr>\n",
       "      <th>0</th>\n",
       "      <td>1</td>\n",
       "      <td>Toy Story (1995)</td>\n",
       "      <td>Adventure|Animation|Children|Comedy|Fantasy</td>\n",
       "    </tr>\n",
       "    <tr>\n",
       "      <th>1</th>\n",
       "      <td>2</td>\n",
       "      <td>Jumanji (1995)</td>\n",
       "      <td>Adventure|Children|Fantasy</td>\n",
       "    </tr>\n",
       "    <tr>\n",
       "      <th>2</th>\n",
       "      <td>3</td>\n",
       "      <td>Grumpier Old Men (1995)</td>\n",
       "      <td>Comedy|Romance</td>\n",
       "    </tr>\n",
       "    <tr>\n",
       "      <th>3</th>\n",
       "      <td>4</td>\n",
       "      <td>Waiting to Exhale (1995)</td>\n",
       "      <td>Comedy|Drama|Romance</td>\n",
       "    </tr>\n",
       "    <tr>\n",
       "      <th>4</th>\n",
       "      <td>5</td>\n",
       "      <td>Father of the Bride Part II (1995)</td>\n",
       "      <td>Comedy</td>\n",
       "    </tr>\n",
       "  </tbody>\n",
       "</table>\n",
       "</div>"
      ],
      "text/plain": [
       "   movieId                               title  \\\n",
       "0        1                    Toy Story (1995)   \n",
       "1        2                      Jumanji (1995)   \n",
       "2        3             Grumpier Old Men (1995)   \n",
       "3        4            Waiting to Exhale (1995)   \n",
       "4        5  Father of the Bride Part II (1995)   \n",
       "\n",
       "                                        genres  \n",
       "0  Adventure|Animation|Children|Comedy|Fantasy  \n",
       "1                   Adventure|Children|Fantasy  \n",
       "2                               Comedy|Romance  \n",
       "3                         Comedy|Drama|Romance  \n",
       "4                                       Comedy  "
      ]
     },
     "execution_count": 7,
     "metadata": {},
     "output_type": "execute_result"
    }
   ],
   "source": [
    "df_movie.head()"
   ]
  },
  {
   "cell_type": "markdown",
   "metadata": {},
   "source": [
    "Then, we shall check whether there are missing data in both datasets.\n",
    "We check whether there are missing movieID, genre, movie title or IMDB average ratings in the movie datasets. If so, just remove such rows."
   ]
  },
  {
   "cell_type": "code",
   "execution_count": 8,
   "metadata": {},
   "outputs": [],
   "source": [
    "rating_to_drop = df_rating[df_rating.isnull().any(axis=1)]\n",
    "movie_to_drop = df_movie[df_movie.isnull().any(axis=1)]"
   ]
  },
  {
   "cell_type": "code",
   "execution_count": 9,
   "metadata": {},
   "outputs": [
    {
     "name": "stdout",
     "output_type": "stream",
     "text": [
      "Empty DataFrame\n",
      "Columns: [userId, movieId, rating]\n",
      "Index: []\n",
      "Empty DataFrame\n",
      "Columns: [movieId, title, genres]\n",
      "Index: []\n"
     ]
    }
   ],
   "source": [
    "print(rating_to_drop)\n",
    "print(movie_to_drop)"
   ]
  },
  {
   "cell_type": "markdown",
   "metadata": {},
   "source": [
    "Afterwards, some pre-processings are needed. To facilitate further visulizations, we may need to convert the original rating in the scale of 5 into the rating in the scale of 10."
   ]
  },
  {
   "cell_type": "code",
   "execution_count": 10,
   "metadata": {},
   "outputs": [],
   "source": [
    "df_rating['rating'] *= 2"
   ]
  },
  {
   "cell_type": "markdown",
   "metadata": {},
   "source": [
    "Then, since the original ratings dataset is so large and we may not need such redundant data, in further predictive models, we would like to select smaller samples from it. Therefore, considering the users' behaviors would be consistent overall the rating dataframe, we create two subgroups from the original ratings data, one is for training and the other is for testing, in order to represent the general rating dataframe."
   ]
  },
  {
   "cell_type": "code",
   "execution_count": 11,
   "metadata": {},
   "outputs": [],
   "source": [
    "train = df_rating[df_rating['userId']<=2000]\n",
    "# we would select the first 2000 users as our training set"
   ]
  },
  {
   "cell_type": "markdown",
   "metadata": {},
   "source": [
    "Then, check whether following conditions appear in the rating datasets:\n",
    "1. missing ratings\n",
    "2. ratings on films whose movieID does not exist in the movie dataset(since we are going to link the movie and rating dataset with the movieID)\n",
    "if such problems exist, please remove the problematic rating (but not the rest of the users' rating)"
   ]
  },
  {
   "cell_type": "code",
   "execution_count": 12,
   "metadata": {},
   "outputs": [],
   "source": [
    "rows_to_drop = []\n",
    "for n in range(len(train)):\n",
    "    if train['movieId'][n] not in df_movie['movieId']:\n",
    "        rows_to_drop.append(n)"
   ]
  },
  {
   "cell_type": "code",
   "execution_count": 13,
   "metadata": {},
   "outputs": [],
   "source": [
    "train = train.drop(rows_to_drop)"
   ]
  },
  {
   "cell_type": "code",
   "execution_count": 14,
   "metadata": {},
   "outputs": [],
   "source": [
    "frames = [train[train['userId'] == i+1][-5:] for i in range(2000)]"
   ]
  },
  {
   "cell_type": "code",
   "execution_count": 15,
   "metadata": {},
   "outputs": [],
   "source": [
    "test = pd.concat(frames)"
   ]
  },
  {
   "cell_type": "code",
   "execution_count": 16,
   "metadata": {},
   "outputs": [],
   "source": [
    "todrop = test.index.values"
   ]
  },
  {
   "cell_type": "code",
   "execution_count": 17,
   "metadata": {},
   "outputs": [],
   "source": [
    "train = train.drop(todrop)"
   ]
  },
  {
   "cell_type": "markdown",
   "metadata": {},
   "source": [
    "Finally, we create a new column in the train dataframe called: average_score, and use the movieID as a reference to append the average rating after the user's rating."
   ]
  },
  {
   "cell_type": "code",
   "execution_count": 18,
   "metadata": {},
   "outputs": [
    {
     "data": {
      "text/html": [
       "<div>\n",
       "<style scoped>\n",
       "    .dataframe tbody tr th:only-of-type {\n",
       "        vertical-align: middle;\n",
       "    }\n",
       "\n",
       "    .dataframe tbody tr th {\n",
       "        vertical-align: top;\n",
       "    }\n",
       "\n",
       "    .dataframe thead th {\n",
       "        text-align: right;\n",
       "    }\n",
       "</style>\n",
       "<table border=\"1\" class=\"dataframe\">\n",
       "  <thead>\n",
       "    <tr style=\"text-align: right;\">\n",
       "      <th></th>\n",
       "      <th>userId</th>\n",
       "      <th>movieId</th>\n",
       "      <th>rating</th>\n",
       "    </tr>\n",
       "  </thead>\n",
       "  <tbody>\n",
       "    <tr>\n",
       "      <th>0</th>\n",
       "      <td>1</td>\n",
       "      <td>2</td>\n",
       "      <td>7.0</td>\n",
       "    </tr>\n",
       "    <tr>\n",
       "      <th>1</th>\n",
       "      <td>1</td>\n",
       "      <td>29</td>\n",
       "      <td>7.0</td>\n",
       "    </tr>\n",
       "    <tr>\n",
       "      <th>2</th>\n",
       "      <td>1</td>\n",
       "      <td>32</td>\n",
       "      <td>7.0</td>\n",
       "    </tr>\n",
       "    <tr>\n",
       "      <th>3</th>\n",
       "      <td>1</td>\n",
       "      <td>47</td>\n",
       "      <td>7.0</td>\n",
       "    </tr>\n",
       "    <tr>\n",
       "      <th>4</th>\n",
       "      <td>1</td>\n",
       "      <td>50</td>\n",
       "      <td>7.0</td>\n",
       "    </tr>\n",
       "  </tbody>\n",
       "</table>\n",
       "</div>"
      ],
      "text/plain": [
       "   userId  movieId  rating\n",
       "0       1        2     7.0\n",
       "1       1       29     7.0\n",
       "2       1       32     7.0\n",
       "3       1       47     7.0\n",
       "4       1       50     7.0"
      ]
     },
     "execution_count": 18,
     "metadata": {},
     "output_type": "execute_result"
    }
   ],
   "source": [
    "train.head()"
   ]
  },
  {
   "cell_type": "markdown",
   "metadata": {},
   "source": [
    "Then, since we could not access the final ratings of each film from the two datasets, we would try to generate it on our own. Firstly, we would create a new column in the movie dataframe called average_rating, which is generated by calculating the average score of the users in rating dataframe on each film. If some films have not been rated by the users, then remove this movie row."
   ]
  },
  {
   "cell_type": "code",
   "execution_count": 19,
   "metadata": {},
   "outputs": [],
   "source": [
    "average_ratings = {}\n",
    "for index, row in train.iterrows():\n",
    "    if row[1] in average_ratings:\n",
    "        average_ratings[row[1]].append(row[2])\n",
    "    else:\n",
    "        average_ratings[row[1]] = [row[2]]"
   ]
  },
  {
   "cell_type": "code",
   "execution_count": 20,
   "metadata": {},
   "outputs": [],
   "source": [
    "average_dict = {}\n",
    "for key,value in average_ratings.items():\n",
    "    average_dict[key] = sum(value)/len(value)"
   ]
  },
  {
   "cell_type": "code",
   "execution_count": 21,
   "metadata": {},
   "outputs": [],
   "source": [
    "train['average_score'] = [average_dict[row[1]] for index,row in train.iterrows()]"
   ]
  },
  {
   "cell_type": "code",
   "execution_count": 22,
   "metadata": {},
   "outputs": [
    {
     "data": {
      "text/html": [
       "<div>\n",
       "<style scoped>\n",
       "    .dataframe tbody tr th:only-of-type {\n",
       "        vertical-align: middle;\n",
       "    }\n",
       "\n",
       "    .dataframe tbody tr th {\n",
       "        vertical-align: top;\n",
       "    }\n",
       "\n",
       "    .dataframe thead th {\n",
       "        text-align: right;\n",
       "    }\n",
       "</style>\n",
       "<table border=\"1\" class=\"dataframe\">\n",
       "  <thead>\n",
       "    <tr style=\"text-align: right;\">\n",
       "      <th></th>\n",
       "      <th>userId</th>\n",
       "      <th>movieId</th>\n",
       "      <th>rating</th>\n",
       "      <th>average_score</th>\n",
       "    </tr>\n",
       "  </thead>\n",
       "  <tbody>\n",
       "    <tr>\n",
       "      <th>0</th>\n",
       "      <td>1</td>\n",
       "      <td>2</td>\n",
       "      <td>7.0</td>\n",
       "      <td>6.484076</td>\n",
       "    </tr>\n",
       "    <tr>\n",
       "      <th>1</th>\n",
       "      <td>1</td>\n",
       "      <td>29</td>\n",
       "      <td>7.0</td>\n",
       "      <td>7.825397</td>\n",
       "    </tr>\n",
       "    <tr>\n",
       "      <th>2</th>\n",
       "      <td>1</td>\n",
       "      <td>32</td>\n",
       "      <td>7.0</td>\n",
       "      <td>7.763955</td>\n",
       "    </tr>\n",
       "    <tr>\n",
       "      <th>3</th>\n",
       "      <td>1</td>\n",
       "      <td>47</td>\n",
       "      <td>7.0</td>\n",
       "      <td>8.200632</td>\n",
       "    </tr>\n",
       "    <tr>\n",
       "      <th>4</th>\n",
       "      <td>1</td>\n",
       "      <td>50</td>\n",
       "      <td>7.0</td>\n",
       "      <td>8.773723</td>\n",
       "    </tr>\n",
       "  </tbody>\n",
       "</table>\n",
       "</div>"
      ],
      "text/plain": [
       "   userId  movieId  rating  average_score\n",
       "0       1        2     7.0       6.484076\n",
       "1       1       29     7.0       7.825397\n",
       "2       1       32     7.0       7.763955\n",
       "3       1       47     7.0       8.200632\n",
       "4       1       50     7.0       8.773723"
      ]
     },
     "execution_count": 22,
     "metadata": {},
     "output_type": "execute_result"
    }
   ],
   "source": [
    "train.head()"
   ]
  },
  {
   "cell_type": "markdown",
   "metadata": {},
   "source": [
    "Same as the previous step, also append the genre of each rated film in the train dataframe as a new column called genre."
   ]
  },
  {
   "cell_type": "code",
   "execution_count": 26,
   "metadata": {},
   "outputs": [],
   "source": [
    "genre = []\n",
    "for i in train['movieId']:\n",
    "    g = \"\"\n",
    "    for val in df_movie[df_movie['movieId'] == i]['genres']:\n",
    "        g = val\n",
    "    genre.append(g)\n",
    "train['genres'] = genre"
   ]
  },
  {
   "cell_type": "markdown",
   "metadata": {},
   "source": [
    "Afterwards, create a new column called variance, to store the variance between the user's rating and average rating.\n",
    "\n",
    "For instance, if in one row of the train dataframe, one user gives 8 to a film while the film is indeed 6.4, the variance in that row would be 1.6. And if the user gives a 5 to a film while the films is indeed 8.1, the variance would be -3.1."
   ]
  },
  {
   "cell_type": "code",
   "execution_count": 28,
   "metadata": {},
   "outputs": [],
   "source": [
    "train['variance'] = train.apply(lambda row: row.rating - row.average_score, axis=1)"
   ]
  },
  {
   "cell_type": "code",
   "execution_count": 29,
   "metadata": {},
   "outputs": [
    {
     "data": {
      "text/html": [
       "<div>\n",
       "<style scoped>\n",
       "    .dataframe tbody tr th:only-of-type {\n",
       "        vertical-align: middle;\n",
       "    }\n",
       "\n",
       "    .dataframe tbody tr th {\n",
       "        vertical-align: top;\n",
       "    }\n",
       "\n",
       "    .dataframe thead th {\n",
       "        text-align: right;\n",
       "    }\n",
       "</style>\n",
       "<table border=\"1\" class=\"dataframe\">\n",
       "  <thead>\n",
       "    <tr style=\"text-align: right;\">\n",
       "      <th></th>\n",
       "      <th>userId</th>\n",
       "      <th>movieId</th>\n",
       "      <th>rating</th>\n",
       "      <th>average_score</th>\n",
       "      <th>genres</th>\n",
       "      <th>variance</th>\n",
       "    </tr>\n",
       "  </thead>\n",
       "  <tbody>\n",
       "    <tr>\n",
       "      <th>0</th>\n",
       "      <td>1</td>\n",
       "      <td>2</td>\n",
       "      <td>7.0</td>\n",
       "      <td>6.484076</td>\n",
       "      <td>Adventure|Children|Fantasy</td>\n",
       "      <td>0.515924</td>\n",
       "    </tr>\n",
       "    <tr>\n",
       "      <th>1</th>\n",
       "      <td>1</td>\n",
       "      <td>29</td>\n",
       "      <td>7.0</td>\n",
       "      <td>7.825397</td>\n",
       "      <td>Adventure|Drama|Fantasy|Mystery|Sci-Fi</td>\n",
       "      <td>-0.825397</td>\n",
       "    </tr>\n",
       "    <tr>\n",
       "      <th>2</th>\n",
       "      <td>1</td>\n",
       "      <td>32</td>\n",
       "      <td>7.0</td>\n",
       "      <td>7.763955</td>\n",
       "      <td>Mystery|Sci-Fi|Thriller</td>\n",
       "      <td>-0.763955</td>\n",
       "    </tr>\n",
       "    <tr>\n",
       "      <th>3</th>\n",
       "      <td>1</td>\n",
       "      <td>47</td>\n",
       "      <td>7.0</td>\n",
       "      <td>8.200632</td>\n",
       "      <td>Mystery|Thriller</td>\n",
       "      <td>-1.200632</td>\n",
       "    </tr>\n",
       "    <tr>\n",
       "      <th>4</th>\n",
       "      <td>1</td>\n",
       "      <td>50</td>\n",
       "      <td>7.0</td>\n",
       "      <td>8.773723</td>\n",
       "      <td>Crime|Mystery|Thriller</td>\n",
       "      <td>-1.773723</td>\n",
       "    </tr>\n",
       "  </tbody>\n",
       "</table>\n",
       "</div>"
      ],
      "text/plain": [
       "   userId  movieId  rating  average_score  \\\n",
       "0       1        2     7.0       6.484076   \n",
       "1       1       29     7.0       7.825397   \n",
       "2       1       32     7.0       7.763955   \n",
       "3       1       47     7.0       8.200632   \n",
       "4       1       50     7.0       8.773723   \n",
       "\n",
       "                                   genres  variance  \n",
       "0              Adventure|Children|Fantasy  0.515924  \n",
       "1  Adventure|Drama|Fantasy|Mystery|Sci-Fi -0.825397  \n",
       "2                 Mystery|Sci-Fi|Thriller -0.763955  \n",
       "3                        Mystery|Thriller -1.200632  \n",
       "4                  Crime|Mystery|Thriller -1.773723  "
      ]
     },
     "execution_count": 29,
     "metadata": {},
     "output_type": "execute_result"
    }
   ],
   "source": [
    "train.head()"
   ]
  },
  {
   "cell_type": "code",
   "execution_count": 30,
   "metadata": {},
   "outputs": [],
   "source": [
    "train.to_csv(r'train.csv')"
   ]
  },
  {
   "cell_type": "markdown",
   "metadata": {},
   "source": [
    "At this point, the train dataframe would have these columns for each rating:\n",
    "1. userID (an integer)\n",
    "2. movieID (an integer)\n",
    "3. user's rating (an integer)\n",
    "4. average rating (a float)\n",
    "5. the genres of the film they rate (a list)\n",
    "6. the variance (a float)"
   ]
  },
  {
   "cell_type": "markdown",
   "metadata": {},
   "source": [
    "Then, for our test dataframe, do the same thing to the test dataframe and make it have the six columns for further usages."
   ]
  },
  {
   "cell_type": "code",
   "execution_count": 50,
   "metadata": {},
   "outputs": [],
   "source": [
    "# code here\n",
    "# Anthony please write this part"
   ]
  },
  {
   "cell_type": "code",
   "execution_count": 31,
   "metadata": {},
   "outputs": [],
   "source": [
    "average_ratings = {}\n",
    "for index, row in test.iterrows():\n",
    "    if row[1] in average_ratings:\n",
    "        average_ratings[row[1]].append(row[2])\n",
    "    else:\n",
    "        average_ratings[row[1]] = [row[2]]\n",
    "\n",
    "average_dict = {}\n",
    "for key,value in average_ratings.items():\n",
    "    average_dict[key] = sum(value)/len(value)\n",
    "\n",
    "test['average_score'] = [average_dict[row[1]] for index,row in test.iterrows()]"
   ]
  },
  {
   "cell_type": "code",
   "execution_count": 32,
   "metadata": {},
   "outputs": [],
   "source": [
    "genre = []\n",
    "for i in test['movieId']:\n",
    "    g = \"\"\n",
    "    for val in df_movie[df_movie['movieId'] == i]['genres']:\n",
    "        g = val\n",
    "    genre.append(g)\n",
    "test['genres'] = genre"
   ]
  },
  {
   "cell_type": "code",
   "execution_count": 33,
   "metadata": {},
   "outputs": [],
   "source": [
    "test['variance'] = test.apply(lambda row: row.rating - row.average_score, axis=1)"
   ]
  },
  {
   "cell_type": "code",
   "execution_count": 111,
   "metadata": {},
   "outputs": [],
   "source": [
    "test['recommend'] = test.apply(lambda row: row.variance >= 0, axis=1)"
   ]
  },
  {
   "cell_type": "code",
   "execution_count": 112,
   "metadata": {},
   "outputs": [
    {
     "data": {
      "text/html": [
       "<div>\n",
       "<style scoped>\n",
       "    .dataframe tbody tr th:only-of-type {\n",
       "        vertical-align: middle;\n",
       "    }\n",
       "\n",
       "    .dataframe tbody tr th {\n",
       "        vertical-align: top;\n",
       "    }\n",
       "\n",
       "    .dataframe thead th {\n",
       "        text-align: right;\n",
       "    }\n",
       "</style>\n",
       "<table border=\"1\" class=\"dataframe\">\n",
       "  <thead>\n",
       "    <tr style=\"text-align: right;\">\n",
       "      <th></th>\n",
       "      <th>userId</th>\n",
       "      <th>movieId</th>\n",
       "      <th>rating</th>\n",
       "      <th>average_score</th>\n",
       "      <th>genres</th>\n",
       "      <th>variance</th>\n",
       "      <th>recommend</th>\n",
       "    </tr>\n",
       "  </thead>\n",
       "  <tbody>\n",
       "    <tr>\n",
       "      <th>169</th>\n",
       "      <td>1</td>\n",
       "      <td>8482</td>\n",
       "      <td>7.0</td>\n",
       "      <td>8.000000</td>\n",
       "      <td>Drama|Fantasy|Horror</td>\n",
       "      <td>-1.000000</td>\n",
       "      <td>False</td>\n",
       "    </tr>\n",
       "    <tr>\n",
       "      <th>170</th>\n",
       "      <td>1</td>\n",
       "      <td>8507</td>\n",
       "      <td>10.0</td>\n",
       "      <td>8.500000</td>\n",
       "      <td>Crime|Drama|Horror</td>\n",
       "      <td>1.500000</td>\n",
       "      <td>True</td>\n",
       "    </tr>\n",
       "    <tr>\n",
       "      <th>171</th>\n",
       "      <td>1</td>\n",
       "      <td>8636</td>\n",
       "      <td>9.0</td>\n",
       "      <td>7.242105</td>\n",
       "      <td>Action|Adventure|Sci-Fi|IMAX</td>\n",
       "      <td>1.757895</td>\n",
       "      <td>True</td>\n",
       "    </tr>\n",
       "    <tr>\n",
       "      <th>172</th>\n",
       "      <td>1</td>\n",
       "      <td>8690</td>\n",
       "      <td>7.0</td>\n",
       "      <td>7.000000</td>\n",
       "      <td>Comedy|Drama|Sci-Fi|War</td>\n",
       "      <td>0.000000</td>\n",
       "      <td>True</td>\n",
       "    </tr>\n",
       "    <tr>\n",
       "      <th>173</th>\n",
       "      <td>1</td>\n",
       "      <td>8961</td>\n",
       "      <td>8.0</td>\n",
       "      <td>7.568889</td>\n",
       "      <td>Action|Adventure|Animation|Children|Comedy</td>\n",
       "      <td>0.431111</td>\n",
       "      <td>True</td>\n",
       "    </tr>\n",
       "  </tbody>\n",
       "</table>\n",
       "</div>"
      ],
      "text/plain": [
       "     userId  movieId  rating  average_score  \\\n",
       "169       1     8482     7.0       8.000000   \n",
       "170       1     8507    10.0       8.500000   \n",
       "171       1     8636     9.0       7.242105   \n",
       "172       1     8690     7.0       7.000000   \n",
       "173       1     8961     8.0       7.568889   \n",
       "\n",
       "                                         genres  variance  recommend  \n",
       "169                        Drama|Fantasy|Horror -1.000000      False  \n",
       "170                          Crime|Drama|Horror  1.500000       True  \n",
       "171                Action|Adventure|Sci-Fi|IMAX  1.757895       True  \n",
       "172                     Comedy|Drama|Sci-Fi|War  0.000000       True  \n",
       "173  Action|Adventure|Animation|Children|Comedy  0.431111       True  "
      ]
     },
     "execution_count": 112,
     "metadata": {},
     "output_type": "execute_result"
    }
   ],
   "source": [
    "test.head()"
   ]
  },
  {
   "cell_type": "code",
   "execution_count": 114,
   "metadata": {},
   "outputs": [],
   "source": [
    "test.to_csv(r'test.csv')"
   ]
  },
  {
   "cell_type": "markdown",
   "metadata": {},
   "source": [
    "# Data Analysis & Results"
   ]
  },
  {
   "cell_type": "markdown",
   "metadata": {},
   "source": [
    "# Data Visualization"
   ]
  },
  {
   "cell_type": "markdown",
   "metadata": {},
   "source": [
    "#   Graph 1"
   ]
  },
  {
   "cell_type": "markdown",
   "metadata": {},
   "source": [
    "To begin with, consistent with the movie dataframe, we would generate another bar graph reflecting the average ratings of every genre. In order to do so, we would firstly generate several numpy arrays to store the average ratings of each genre. such as \n",
    "1. romancearray = [1.4, 4.5, 2.3 .......]\n",
    "2. actionarry = [5.4, 4.4, 6.3 .......]\n",
    "\n",
    "for each type of film appears in the movie dataframe. If one film has more than one genre, please consider it belong to all these genres.\n",
    "\n",
    "Then, use the numpy.mean() method to calculate the average ratings of each genre of films. Then create a bar graph about this with:\n",
    "1. x-axis: the film genres\n",
    "2. y-axis: the average ratings\n",
    "\n",
    "(if you have some better methods, please try so!)"
   ]
  },
  {
   "cell_type": "code",
   "execution_count": 38,
   "metadata": {},
   "outputs": [],
   "source": [
    "score_dict = {}\n",
    "for index, row in train.iterrows():\n",
    "    genres = row[4].split('|')\n",
    "    for gen in genres:\n",
    "        if gen in score_dict:\n",
    "            score_dict[gen].append(row[3])\n",
    "        else:\n",
    "            score_dict[gen] = [row[3]]"
   ]
  },
  {
   "cell_type": "code",
   "execution_count": 39,
   "metadata": {},
   "outputs": [],
   "source": [
    "average_dict = {}\n",
    "for key,value in score_dict.items():\n",
    "    average_dict[key] = sum(value)/len(value)"
   ]
  },
  {
   "cell_type": "code",
   "execution_count": 40,
   "metadata": {},
   "outputs": [],
   "source": [
    "genres = []\n",
    "scores = []\n",
    "for key, value in average_dict.items():\n",
    "    genres.append(key)\n",
    "    scores.append(value)"
   ]
  },
  {
   "cell_type": "code",
   "execution_count": 41,
   "metadata": {},
   "outputs": [
    {
     "data": {
      "text/plain": [
       "<BarContainer object of 19 artists>"
      ]
     },
     "execution_count": 41,
     "metadata": {},
     "output_type": "execute_result"
    },
    {
     "data": {
      "image/png": "[encoded data removed]",
      "text/plain": [
       "<Figure size 432x288 with 1 Axes>"
      ]
     },
     "metadata": {
      "needs_background": "light"
     },
     "output_type": "display_data"
    }
   ],
   "source": [
    "plt.bar(genres, height= scores)"
   ]
  },
  {
   "cell_type": "markdown",
   "metadata": {},
   "source": [
    "The evaluation of this graph:\n",
    "1. distribution: normal, symmetrical or skewed?\n",
    "2. the minimum or maximum\n",
    "\n",
    "(Chuyang Would write this part)"
   ]
  },
  {
   "cell_type": "markdown",
   "metadata": {},
   "source": [
    "#  Graph 2"
   ]
  },
  {
   "cell_type": "markdown",
   "metadata": {},
   "source": [
    "Then, consistent with the train dataframe, we would create a histogram about distribution of the ratings of films.\n",
    "\n",
    "1. On the x-axis, put the ratings (0, 1, 2, 3, 4, 5, 6, 7, 8, 9, 10)\n",
    "2. On the y-axis, put the number of ratings\n",
    "\n",
    "To do so, several steps may be taken:\n",
    "1. create a dictionary, with the ratings (0 ~ 10) as the keys\n",
    "2. then run through the train dataframe. For instance, if one user gives a 1 to a film, add one to the value of the key \"1\"\n",
    "\n",
    "Therefore, with this dictionary, we could generate a histrogram of the distribution of the ratings that shows how many 1 star ratings are there, how many 2 stars ratings are there in our train dataframe.\n",
    "\n",
    "(If you have some better and more convienent ways to do so, please use it)"
   ]
  },
  {
   "cell_type": "code",
   "execution_count": 42,
   "metadata": {},
   "outputs": [],
   "source": [
    "# code here\n",
    "# Ian please write this part"
   ]
  },
  {
   "cell_type": "markdown",
   "metadata": {},
   "source": [
    "The evaluation of this graph:\n",
    "\n",
    "Chuyang would write this part"
   ]
  },
  {
   "cell_type": "markdown",
   "metadata": {},
   "source": [
    "# Graph 3"
   ]
  },
  {
   "cell_type": "markdown",
   "metadata": {},
   "source": [
    "Afterwards, we would still stick to the train dataframe. Since one of our predictive factor would be the number of films each user has rated, we may show the distribution of number of films users view.\n",
    "\n",
    "Then we would also create a dictionary, with userID as the key, and if the user with ID = 5 rates totally 10 films, the key would be 5 and the value would be 10. With this dictionary, we could then generate a histogram about the distribution of the # of film users watches.\n",
    "\n",
    "1. x - axis: the number of films viewed (0~10, 10~20, 20~30 .......)\n",
    "2. y - axis: the number of users viewed that number of films"
   ]
  },
  {
   "cell_type": "code",
   "execution_count": 43,
   "metadata": {},
   "outputs": [],
   "source": [
    "films_dict = {}\n",
    "a = 0\n",
    "for index, row in train.iterrows():\n",
    "    key = row['userId'] \n",
    "    old_key = films_dict.get(key)\n",
    "    \n",
    "    if old_key == None:\n",
    "        films_dict[key] = 1\n",
    "        a = 0\n",
    "    else:\n",
    "        a = a + 1\n",
    "        films_dict[key] = a + 1"
   ]
  },
  {
   "cell_type": "code",
   "execution_count": 44,
   "metadata": {},
   "outputs": [
    {
     "data": {
      "text/plain": [
       "(array([ 64., 354., 248., 183., 127., 118.,  97.,  70.,  74.,  47.,  48.,\n",
       "         42.,  37.,  28.,  29.,  26.,  21.,  30.,  18.,  26.,  14.,  18.,\n",
       "         11.,  17.,   9.,  20.,   7.,   9.,   7.,   7.,  11.,  15.,  11.,\n",
       "          7.,   3.,   4.,   6.,   4.,   7.,   6.,  10.,   3.,   4.,   1.,\n",
       "          4.,   3.,   4.,   6.,   1.,   1.,   2.,   4.,   1.,   1.,   4.,\n",
       "          3.,   2.,   1.,   0.,   0.,   1.,   3.,   4.,   0.,   2.,   0.,\n",
       "          0.,   2.,   3.,   3.,   1.,   1.,   4.,   4.,   1.,   0.,   1.,\n",
       "          0.,   0.,   0.,   3.,   0.,   2.,   1.,   0.,   0.,   2.,   1.,\n",
       "          1.,   0.,   1.,   1.,   0.,   0.,   0.,   2.,   0.,   0.,   0.,\n",
       "          0.,   1.,   3.,   0.,   1.,   0.,   0.,   1.,   1.,   0.,   0.,\n",
       "          1.,   1.,   0.,   0.,   0.,   1.,   0.,   0.,   0.,   0.,   0.,\n",
       "          0.,   0.,   0.,   0.,   1.,   0.,   0.,   0.,   0.,   0.,   1.,\n",
       "          0.,   0.,   0.,   0.,   0.,   1.,   0.,   0.,   0.,   0.,   0.,\n",
       "          0.,   0.,   0.,   0.,   0.,   0.,   0.,   0.,   0.,   0.,   0.,\n",
       "          0.,   0.,   0.,   0.,   0.,   0.,   0.,   0.,   0.,   0.,   0.,\n",
       "          0.,   0.,   0.,   0.,   0.,   0.,   0.,   0.,   0.,   0.,   0.,\n",
       "          0.,   0.,   0.,   0.,   0.,   0.,   0.,   0.,   0.,   0.,   1.,\n",
       "          0.,   0.,   1.,   0.,   0.,   1.,   0.,   0.,   0.,   0.,   0.,\n",
       "          0.,   0.,   0.,   0.,   0.,   0.,   0.,   0.,   0.,   0.,   1.,\n",
       "          0.,   0.,   0.,   0.,   0.,   0.,   0.,   0.,   0.,   0.,   0.,\n",
       "          0.,   0.,   0.,   0.,   0.,   0.,   0.,   0.,   0.,   0.,   0.,\n",
       "          0.,   0.,   0.,   0.,   0.,   0.,   0.,   0.,   0.,   0.,   0.,\n",
       "          0.,   0.,   0.,   0.,   0.,   0.,   0.,   1.]),\n",
       " array([   4.   ,   14.396,   24.792,   35.188,   45.584,   55.98 ,\n",
       "          66.376,   76.772,   87.168,   97.564,  107.96 ,  118.356,\n",
       "         128.752,  139.148,  149.544,  159.94 ,  170.336,  180.732,\n",
       "         191.128,  201.524,  211.92 ,  222.316,  232.712,  243.108,\n",
       "         253.504,  263.9  ,  274.296,  284.692,  295.088,  305.484,\n",
       "         315.88 ,  326.276,  336.672,  347.068,  357.464,  367.86 ,\n",
       "         378.256,  388.652,  399.048,  409.444,  419.84 ,  430.236,\n",
       "         440.632,  451.028,  461.424,  471.82 ,  482.216,  492.612,\n",
       "         503.008,  513.404,  523.8  ,  534.196,  544.592,  554.988,\n",
       "         565.384,  575.78 ,  586.176,  596.572,  606.968,  617.364,\n",
       "         627.76 ,  638.156,  648.552,  658.948,  669.344,  679.74 ,\n",
       "         690.136,  700.532,  710.928,  721.324,  731.72 ,  742.116,\n",
       "         752.512,  762.908,  773.304,  783.7  ,  794.096,  804.492,\n",
       "         814.888,  825.284,  835.68 ,  846.076,  856.472,  866.868,\n",
       "         877.264,  887.66 ,  898.056,  908.452,  918.848,  929.244,\n",
       "         939.64 ,  950.036,  960.432,  970.828,  981.224,  991.62 ,\n",
       "        1002.016, 1012.412, 1022.808, 1033.204, 1043.6  , 1053.996,\n",
       "        1064.392, 1074.788, 1085.184, 1095.58 , 1105.976, 1116.372,\n",
       "        1126.768, 1137.164, 1147.56 , 1157.956, 1168.352, 1178.748,\n",
       "        1189.144, 1199.54 , 1209.936, 1220.332, 1230.728, 1241.124,\n",
       "        1251.52 , 1261.916, 1272.312, 1282.708, 1293.104, 1303.5  ,\n",
       "        1313.896, 1324.292, 1334.688, 1345.084, 1355.48 , 1365.876,\n",
       "        1376.272, 1386.668, 1397.064, 1407.46 , 1417.856, 1428.252,\n",
       "        1438.648, 1449.044, 1459.44 , 1469.836, 1480.232, 1490.628,\n",
       "        1501.024, 1511.42 , 1521.816, 1532.212, 1542.608, 1553.004,\n",
       "        1563.4  , 1573.796, 1584.192, 1594.588, 1604.984, 1615.38 ,\n",
       "        1625.776, 1636.172, 1646.568, 1656.964, 1667.36 , 1677.756,\n",
       "        1688.152, 1698.548, 1708.944, 1719.34 , 1729.736, 1740.132,\n",
       "        1750.528, 1760.924, 1771.32 , 1781.716, 1792.112, 1802.508,\n",
       "        1812.904, 1823.3  , 1833.696, 1844.092, 1854.488, 1864.884,\n",
       "        1875.28 , 1885.676, 1896.072, 1906.468, 1916.864, 1927.26 ,\n",
       "        1937.656, 1948.052, 1958.448, 1968.844, 1979.24 , 1989.636,\n",
       "        2000.032, 2010.428, 2020.824, 2031.22 , 2041.616, 2052.012,\n",
       "        2062.408, 2072.804, 2083.2  , 2093.596, 2103.992, 2114.388,\n",
       "        2124.784, 2135.18 , 2145.576, 2155.972, 2166.368, 2176.764,\n",
       "        2187.16 , 2197.556, 2207.952, 2218.348, 2228.744, 2239.14 ,\n",
       "        2249.536, 2259.932, 2270.328, 2280.724, 2291.12 , 2301.516,\n",
       "        2311.912, 2322.308, 2332.704, 2343.1  , 2353.496, 2363.892,\n",
       "        2374.288, 2384.684, 2395.08 , 2405.476, 2415.872, 2426.268,\n",
       "        2436.664, 2447.06 , 2457.456, 2467.852, 2478.248, 2488.644,\n",
       "        2499.04 , 2509.436, 2519.832, 2530.228, 2540.624, 2551.02 ,\n",
       "        2561.416, 2571.812, 2582.208, 2592.604, 2603.   ]),\n",
       " <a list of 250 Patch objects>)"
      ]
     },
     "execution_count": 44,
     "metadata": {},
     "output_type": "execute_result"
    },
    {
     "data": {
      "image/png": "[encoded data removed]",
      "text/plain": [
       "<Figure size 432x288 with 1 Axes>"
      ]
     },
     "metadata": {
      "needs_background": "light"
     },
     "output_type": "display_data"
    }
   ],
   "source": [
    "plt.hist(films_dict.values(), bins = 250)"
   ]
  },
  {
   "cell_type": "markdown",
   "metadata": {},
   "source": [
    "the evaluation of this graph:\n",
    "\n",
    "Chuyang would write this part"
   ]
  },
  {
   "cell_type": "markdown",
   "metadata": {},
   "source": [
    "# Graph 4"
   ]
  },
  {
   "cell_type": "markdown",
   "metadata": {},
   "source": [
    "The fourth graph would still stick to the train dataset. This time we would do something pretty similar to the graph one, which displays the average rating of each genre in the train dataframe we select. We would then use it to compare with the graph 1 to show the consistency of the data in the sample we select"
   ]
  },
  {
   "cell_type": "code",
   "execution_count": 45,
   "metadata": {},
   "outputs": [],
   "source": [
    "# code here\n",
    "# Ian please write this part"
   ]
  },
  {
   "cell_type": "markdown",
   "metadata": {},
   "source": [
    "the evaluation of the graph 4:\n",
    "\n",
    "Chuyang would write this part"
   ]
  },
  {
   "cell_type": "markdown",
   "metadata": {},
   "source": [
    "# Graph 5 "
   ]
  },
  {
   "cell_type": "markdown",
   "metadata": {},
   "source": [
    "This graph would focus on the variance column in the train dataframe. This time, we would create a bar graph representing the variance in each genre of film, in order to see the range of variance for each genre of film.\n",
    "1. x - axis: the genres\n",
    "2. y - axis: the variance of ratings of each genre of films\n",
    "\n",
    "Hence, we could see how each genre of film has its scores spreads out."
   ]
  },
  {
   "cell_type": "code",
   "execution_count": null,
   "metadata": {},
   "outputs": [],
   "source": [
    "plt.bar(train['genres'], train['variance'])"
   ]
  },
  {
   "cell_type": "markdown",
   "metadata": {},
   "source": [
    "The evaluation of graph 5:\n",
    "\n",
    "Chuyang would write this part"
   ]
  },
  {
   "cell_type": "markdown",
   "metadata": {},
   "source": [
    "# Cosine Similarity"
   ]
  },
  {
   "cell_type": "code",
   "execution_count": 119,
   "metadata": {},
   "outputs": [],
   "source": [
    "import math\n",
    "from collections import Counter\n",
    "def counter_cosine_similarity(c1, c2):\n",
    "    terms = set(c1).union(c2)\n",
    "    dotprod = sum(c1.get(k, 0) * c2.get(k, 0) for k in terms)\n",
    "    magA = math.sqrt(sum(c1.get(k, 0)**2 for k in terms))\n",
    "    magB = math.sqrt(sum(c2.get(k, 0)**2 for k in terms))\n",
    "    if magA * magB == 0:\n",
    "        return 0\n",
    "    return dotprod / (magA * magB)"
   ]
  },
  {
   "cell_type": "code",
   "execution_count": 110,
   "metadata": {},
   "outputs": [
    {
     "data": {
      "text/html": [
       "<div>\n",
       "<style scoped>\n",
       "    .dataframe tbody tr th:only-of-type {\n",
       "        vertical-align: middle;\n",
       "    }\n",
       "\n",
       "    .dataframe tbody tr th {\n",
       "        vertical-align: top;\n",
       "    }\n",
       "\n",
       "    .dataframe thead th {\n",
       "        text-align: right;\n",
       "    }\n",
       "</style>\n",
       "<table border=\"1\" class=\"dataframe\">\n",
       "  <thead>\n",
       "    <tr style=\"text-align: right;\">\n",
       "      <th></th>\n",
       "      <th>userId</th>\n",
       "      <th>movieId</th>\n",
       "      <th>rating</th>\n",
       "      <th>average_score</th>\n",
       "      <th>genres</th>\n",
       "      <th>variance</th>\n",
       "      <th>recommend</th>\n",
       "    </tr>\n",
       "  </thead>\n",
       "  <tbody>\n",
       "    <tr>\n",
       "      <th>169</th>\n",
       "      <td>1</td>\n",
       "      <td>8482</td>\n",
       "      <td>7.0</td>\n",
       "      <td>8.000000</td>\n",
       "      <td>Drama|Fantasy|Horror</td>\n",
       "      <td>-1.000000</td>\n",
       "      <td>False</td>\n",
       "    </tr>\n",
       "    <tr>\n",
       "      <th>170</th>\n",
       "      <td>1</td>\n",
       "      <td>8507</td>\n",
       "      <td>10.0</td>\n",
       "      <td>8.500000</td>\n",
       "      <td>Crime|Drama|Horror</td>\n",
       "      <td>1.500000</td>\n",
       "      <td>True</td>\n",
       "    </tr>\n",
       "    <tr>\n",
       "      <th>171</th>\n",
       "      <td>1</td>\n",
       "      <td>8636</td>\n",
       "      <td>9.0</td>\n",
       "      <td>7.242105</td>\n",
       "      <td>Action|Adventure|Sci-Fi|IMAX</td>\n",
       "      <td>1.757895</td>\n",
       "      <td>True</td>\n",
       "    </tr>\n",
       "    <tr>\n",
       "      <th>172</th>\n",
       "      <td>1</td>\n",
       "      <td>8690</td>\n",
       "      <td>7.0</td>\n",
       "      <td>7.000000</td>\n",
       "      <td>Comedy|Drama|Sci-Fi|War</td>\n",
       "      <td>0.000000</td>\n",
       "      <td>False</td>\n",
       "    </tr>\n",
       "    <tr>\n",
       "      <th>173</th>\n",
       "      <td>1</td>\n",
       "      <td>8961</td>\n",
       "      <td>8.0</td>\n",
       "      <td>7.568889</td>\n",
       "      <td>Action|Adventure|Animation|Children|Comedy</td>\n",
       "      <td>0.431111</td>\n",
       "      <td>True</td>\n",
       "    </tr>\n",
       "  </tbody>\n",
       "</table>\n",
       "</div>"
      ],
      "text/plain": [
       "     userId  movieId  rating  average_score  \\\n",
       "169       1     8482     7.0       8.000000   \n",
       "170       1     8507    10.0       8.500000   \n",
       "171       1     8636     9.0       7.242105   \n",
       "172       1     8690     7.0       7.000000   \n",
       "173       1     8961     8.0       7.568889   \n",
       "\n",
       "                                         genres  variance  recommend  \n",
       "169                        Drama|Fantasy|Horror -1.000000      False  \n",
       "170                          Crime|Drama|Horror  1.500000       True  \n",
       "171                Action|Adventure|Sci-Fi|IMAX  1.757895       True  \n",
       "172                     Comedy|Drama|Sci-Fi|War  0.000000      False  \n",
       "173  Action|Adventure|Animation|Children|Comedy  0.431111       True  "
      ]
     },
     "execution_count": 110,
     "metadata": {},
     "output_type": "execute_result"
    }
   ],
   "source": [
    "test.head(5)"
   ]
  },
  {
   "cell_type": "code",
   "execution_count": 53,
   "metadata": {},
   "outputs": [
    {
     "data": {
      "text/html": [
       "<div>\n",
       "<style scoped>\n",
       "    .dataframe tbody tr th:only-of-type {\n",
       "        vertical-align: middle;\n",
       "    }\n",
       "\n",
       "    .dataframe tbody tr th {\n",
       "        vertical-align: top;\n",
       "    }\n",
       "\n",
       "    .dataframe thead th {\n",
       "        text-align: right;\n",
       "    }\n",
       "</style>\n",
       "<table border=\"1\" class=\"dataframe\">\n",
       "  <thead>\n",
       "    <tr style=\"text-align: right;\">\n",
       "      <th></th>\n",
       "      <th>userId</th>\n",
       "      <th>movieId</th>\n",
       "      <th>rating</th>\n",
       "      <th>average_score</th>\n",
       "      <th>genres</th>\n",
       "      <th>variance</th>\n",
       "    </tr>\n",
       "  </thead>\n",
       "  <tbody>\n",
       "    <tr>\n",
       "      <th>0</th>\n",
       "      <td>1</td>\n",
       "      <td>2</td>\n",
       "      <td>7.0</td>\n",
       "      <td>6.484076</td>\n",
       "      <td>Adventure|Children|Fantasy</td>\n",
       "      <td>0.515924</td>\n",
       "    </tr>\n",
       "    <tr>\n",
       "      <th>1</th>\n",
       "      <td>1</td>\n",
       "      <td>29</td>\n",
       "      <td>7.0</td>\n",
       "      <td>7.825397</td>\n",
       "      <td>Adventure|Drama|Fantasy|Mystery|Sci-Fi</td>\n",
       "      <td>-0.825397</td>\n",
       "    </tr>\n",
       "    <tr>\n",
       "      <th>2</th>\n",
       "      <td>1</td>\n",
       "      <td>32</td>\n",
       "      <td>7.0</td>\n",
       "      <td>7.763955</td>\n",
       "      <td>Mystery|Sci-Fi|Thriller</td>\n",
       "      <td>-0.763955</td>\n",
       "    </tr>\n",
       "    <tr>\n",
       "      <th>3</th>\n",
       "      <td>1</td>\n",
       "      <td>47</td>\n",
       "      <td>7.0</td>\n",
       "      <td>8.200632</td>\n",
       "      <td>Mystery|Thriller</td>\n",
       "      <td>-1.200632</td>\n",
       "    </tr>\n",
       "    <tr>\n",
       "      <th>4</th>\n",
       "      <td>1</td>\n",
       "      <td>50</td>\n",
       "      <td>7.0</td>\n",
       "      <td>8.773723</td>\n",
       "      <td>Crime|Mystery|Thriller</td>\n",
       "      <td>-1.773723</td>\n",
       "    </tr>\n",
       "  </tbody>\n",
       "</table>\n",
       "</div>"
      ],
      "text/plain": [
       "   userId  movieId  rating  average_score  \\\n",
       "0       1        2     7.0       6.484076   \n",
       "1       1       29     7.0       7.825397   \n",
       "2       1       32     7.0       7.763955   \n",
       "3       1       47     7.0       8.200632   \n",
       "4       1       50     7.0       8.773723   \n",
       "\n",
       "                                   genres  variance  \n",
       "0              Adventure|Children|Fantasy  0.515924  \n",
       "1  Adventure|Drama|Fantasy|Mystery|Sci-Fi -0.825397  \n",
       "2                 Mystery|Sci-Fi|Thriller -0.763955  \n",
       "3                        Mystery|Thriller -1.200632  \n",
       "4                  Crime|Mystery|Thriller -1.773723  "
      ]
     },
     "execution_count": 53,
     "metadata": {},
     "output_type": "execute_result"
    }
   ],
   "source": [
    "train.head()"
   ]
  },
  {
   "cell_type": "code",
   "execution_count": 66,
   "metadata": {},
   "outputs": [],
   "source": [
    "users = {}\n",
    "for index,row in train.iterrows():\n",
    "    if row[0] in users:\n",
    "        users[row[0]].extend(row[4].split('|'))\n",
    "    else:\n",
    "        users[row[0]] = row[4].split('|')"
   ]
  },
  {
   "cell_type": "code",
   "execution_count": 67,
   "metadata": {},
   "outputs": [],
   "source": [
    "for key in users:\n",
    "    users[key] = list(set(users[key]))"
   ]
  },
  {
   "cell_type": "code",
   "execution_count": 118,
   "metadata": {},
   "outputs": [],
   "source": [
    "answer = list(test.apply(lambda row: row.variance >= 0, axis=1))"
   ]
  },
  {
   "cell_type": "code",
   "execution_count": 190,
   "metadata": {},
   "outputs": [],
   "source": [
    "pred = []\n",
    "for index,row in test.iterrows():\n",
    "    if row[0] not in users:\n",
    "        pred.append(False)\n",
    "    else:\n",
    "        counterA = Counter(users[row[0]])\n",
    "        counterB = Counter(row[4].split('|'))\n",
    "        res = counter_cosine_similarity(counterA,counterB)\n",
    "        if res > 0.3:\n",
    "            pred.append(True)\n",
    "        else:\n",
    "            pred.append(False)"
   ]
  },
  {
   "cell_type": "code",
   "execution_count": 191,
   "metadata": {},
   "outputs": [],
   "source": [
    "count = 0\n",
    "for n in range(len(answer)):\n",
    "    if answer[n] == pred[n]:\n",
    "        count += 1"
   ]
  },
  {
   "cell_type": "code",
   "execution_count": 192,
   "metadata": {},
   "outputs": [
    {
     "data": {
      "text/plain": [
       "0.56513908345007"
      ]
     },
     "execution_count": 192,
     "metadata": {},
     "output_type": "execute_result"
    }
   ],
   "source": [
    "count/len(answer)"
   ]
  },
  {
   "cell_type": "markdown",
   "metadata": {},
   "source": [
    "# Ethics and Privacy"
   ]
  },
  {
   "cell_type": "markdown",
   "metadata": {},
   "source": [
    "# Conclusion and Discussion"
   ]
  }
 ],
 "metadata": {
  "kernelspec": {
   "display_name": "Python 3",
   "language": "python",
   "name": "python3"
  },
  "language_info": {
   "codemirror_mode": {
    "name": "ipython",
    "version": 3
   },
   "file_extension": ".py",
   "mimetype": "text/x-python",
   "name": "python",
   "nbconvert_exporter": "python",
   "pygments_lexer": "ipython3",
   "version": "3.7.0"
  }
 },
 "nbformat": 4,
 "nbformat_minor": 2
}
